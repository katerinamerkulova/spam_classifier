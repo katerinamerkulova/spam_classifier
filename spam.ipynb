{
 "cells": [
  {
   "cell_type": "markdown",
   "metadata": {},
   "source": [
    "# Классификация текстов: спам-фильтр для SMS"
   ]
  },
  {
   "cell_type": "markdown",
   "metadata": {},
   "source": [
    "В настоящем проекте мы взяли открытый датасет с SMS-сообщениями, размеченными на спам (\"spam\") и не спам (\"ham\"), построили на нем классификатор текстов на эти два класса, оценили его качество посредством F1-меры, и посмотрели, что будет происходить с качеством, если менять параметры модели.\n",
    "\n",
    "1. Загружаем датасет. Описание датасета можно посмотреть здесь: https://www.kaggle.com/uciml/sms-spam-collection-dataset.\n",
    "\n",
    "2. Считываем датасет в Python, выясняя, что используется в качестве разделителей и как проставляются метки классов. Смотрим, как выглядят типичные сообщения обоих классов."
   ]
  },
  {
   "cell_type": "code",
   "execution_count": 3,
   "metadata": {},
   "outputs": [
    {
     "name": "stdout",
     "output_type": "stream",
     "text": [
      "ham\tGo until jurong point, crazy.. Available only in bugis n great world la e buffet... Cine there got amore wat...\n",
      "\n",
      "spam\tFree entry in 2 a wkly comp to win FA Cup final tkts 21st May 2005. Text FA to 87121 to receive entry question(std txt rate)T&C's apply 08452810075over18's\n",
      "\n"
     ]
    }
   ],
   "source": [
    "import re\n",
    "\n",
    "file = open('SMSSpamCollection.txt', \"r\", encoding=\"utf-8\").read()\n",
    "\n",
    "print(re.search('ham\\t(.+)\\n', file).group(0))\n",
    "print(re.search('spam\\t(.+)\\n', file).group(0))"
   ]
  },
  {
   "cell_type": "markdown",
   "metadata": {},
   "source": [
    "3. Делим сообщения на 2 класса \"спам\" и \"не спам\", используя регулярные выражения. Создаем для дальнейшей работы список соответствующих меток классов. В качестве метки класса использовали 1 для спама и 0 для \"не спама\". Смотрим на (не)сбалансированность классов.\n",
    "4. Разделяем датасет на обучающую и тестовую выборки в пропорции 80/20."
   ]
  },
  {
   "cell_type": "code",
   "execution_count": 13,
   "metadata": {},
   "outputs": [
    {
     "name": "stdout",
     "output_type": "stream",
     "text": [
      "Размер выборки: 5573\n",
      "Количество не спама: 4826\n",
      "Количество спама: 747\n"
     ]
    }
   ],
   "source": [
    "from sklearn.model_selection import train_test_split\n",
    "\n",
    "ham = re.findall('ham\\t(.+)\\n', file)\n",
    "spam = re.findall('spam\\t(.+)\\n', file)\n",
    "\n",
    "print('Размер выборки:', len(ham+spam))\n",
    "print('Количество не спама:', len(ham))\n",
    "print('Количество спама:', len(spam))\n",
    "\n",
    "data = ham + spam\n",
    "labels = [0]*len(ham) + [1]*len(spam)\n",
    "\n",
    "X_train, X_test, y_train, y_test = train_test_split(data, labels, test_size=0.2)"
   ]
  },
  {
   "cell_type": "markdown",
   "metadata": {},
   "source": [
    "5. Используя CountVectorizer со стандартными настройками, получаем из текстов матрицу признаков X.\n",
    "6. Классифицируем тексты с помощью LogisticRegression с параметрами по умолчанию, делаем предсказания и оцениваем их качество с помощью F1-меры."
   ]
  },
  {
   "cell_type": "code",
   "execution_count": 14,
   "metadata": {},
   "outputs": [
    {
     "name": "stdout",
     "output_type": "stream",
     "text": [
      "0.962962962962963\n"
     ]
    }
   ],
   "source": [
    "from sklearn.feature_extraction.text import CountVectorizer\n",
    "from sklearn.linear_model import LogisticRegression\n",
    "from sklearn.pipeline import Pipeline\n",
    "from sklearn.metrics import f1_score\n",
    "\n",
    "vectorizer = CountVectorizer()\n",
    "logreg = LogisticRegression(solver='lbfgs')\n",
    "\n",
    "clf_pipeline = Pipeline(\n",
    "            [(\"vectorizer\", vectorizer), (\"classifier\", logreg)])\n",
    "clf_pipeline.fit(X_train, y_train)\n",
    "\n",
    "y_pred = clf_pipeline.predict(X_test)\n",
    "print(f1_score(y_test, y_pred))"
   ]
  },
  {
   "cell_type": "markdown",
   "metadata": {},
   "source": [
    "7. Повторяем шаги из п.4 и п.5 для TfidfVectorizer. И замечаем, что качество ухудшается. Учитывая, что тексты не были предобаботаны (удаление знаков препинания и лемматизация слов), могла получиться довольна разреженная матрица признаков."
   ]
  },
  {
   "cell_type": "code",
   "execution_count": 15,
   "metadata": {},
   "outputs": [
    {
     "name": "stdout",
     "output_type": "stream",
     "text": [
      "0.8880866425992779\n"
     ]
    }
   ],
   "source": [
    "from sklearn.feature_extraction.text import TfidfVectorizer\n",
    "\n",
    "vectorizer = TfidfVectorizer()\n",
    "\n",
    "clf_pipeline = Pipeline(\n",
    "            [(\"vectorizer\", vectorizer), (\"classifier\", logreg)])\n",
    "clf_pipeline.fit(X_train, y_train)\n",
    "\n",
    "y_pred = clf_pipeline.predict(X_test)\n",
    "print(f1_score(y_test, y_pred))"
   ]
  },
  {
   "cell_type": "markdown",
   "metadata": {},
   "source": [
    "8. Задаем в CountVectorizer параметр ngram_range=(2,2), затем ngram_range=(3,3), затем ngram_range=(1,3). Во всех трех случаях измеряем получившееся значение F1-меры. В данном эксперименте мы пробуем добавлять в признаки n-граммы для разных диапазонов n - только биграммы, только триграммы, и, наконец, все вместе - униграммы, биграммы и триграммы. Обратим внимание, что статистики по биграммам и триграммам намного меньше, поэтому классификатор только на них работает хуже. В то же время это не ухудшает результат сколько-нибудь существенно, если добавлять их вместе с униграммами, т.к. за счет регуляризации линейный классификатор не склонен сильно переобучаться на этих признаках."
   ]
  },
  {
   "cell_type": "code",
   "execution_count": 16,
   "metadata": {},
   "outputs": [
    {
     "name": "stdout",
     "output_type": "stream",
     "text": [
      "(2, 2) 0.7530364372469636\n",
      "(3, 3) 0.6949152542372882\n",
      "(1, 3) 0.9488054607508533\n"
     ]
    }
   ],
   "source": [
    "for var in [(2, 2), (3, 3), (1, 3)]:\n",
    "    vectorizer = CountVectorizer(ngram_range=var)\n",
    "    \n",
    "    clf_pipeline = Pipeline(\n",
    "            [(\"vectorizer\", vectorizer), (\"classifier\", logreg)])\n",
    "    clf_pipeline.fit(X_train, y_train)\n",
    "    \n",
    "    y_pred = clf_pipeline.predict(X_test)\n",
    "    print(var, f1_score(y_test, y_pred))"
   ]
  },
  {
   "cell_type": "code",
   "execution_count": 17,
   "metadata": {},
   "outputs": [
    {
     "name": "stdin",
     "output_type": "stream",
     "text": [
      "Ваше тестовое сообщение:  Have you visited the last lecture on physics?\n"
     ]
    },
    {
     "name": "stdout",
     "output_type": "stream",
     "text": [
      "ham\n"
     ]
    }
   ],
   "source": [
    "test = input('Ваше тестовое сообщение: ')\n",
    "\n",
    "vectorizer = TfidfVectorizer()\n",
    "\n",
    "clf_pipeline = Pipeline(\n",
    "            [(\"vectorizer\", vectorizer), (\"classifier\", logreg)])\n",
    "clf_pipeline.fit(X_train, y_train)\n",
    "\n",
    "pred = ['ham' if x==0 else 'spam' for x in clf_pipeline.predict([test])]\n",
    "\n",
    "print(*pred)"
   ]
  },
  {
   "cell_type": "markdown",
   "metadata": {},
   "source": [
    "# Матрица ошибок"
   ]
  },
  {
   "cell_type": "code",
   "execution_count": 1,
   "metadata": {},
   "outputs": [],
   "source": [
    "from sklearn.metrics import confusion_matrix\n",
    "import numpy as np\n",
    "import matplotlib.pyplot as plt\n",
    "import seaborn as sns"
   ]
  },
  {
   "cell_type": "markdown",
   "metadata": {},
   "source": [
    "Матрица ошибок (матрица неточностей) — это таблица, которая позволяет визуализировать эффективность алгоритма классификации путем сравнения прогнозируемого значения целевой переменной с ее фактическим значением."
   ]
  },
  {
   "cell_type": "markdown",
   "metadata": {},
   "source": [
    "1. Создаём матрицу ошибок с помощью confusion_matrix из модуля _sklearn.metrics_;\n",
    "2. Задаём размер матрицы 8x6;\n",
    "3. Задаём точность отображения процентов до 2 знаков после запятой;\n",
    "4. С помощью модуля _seaborn_ выводим матрицу;\n",
    "5. Выводим точность модели."
   ]
  },
  {
   "cell_type": "code",
   "execution_count": 21,
   "metadata": {},
   "outputs": [
    {
     "data": {
      "image/png": "[encoded data removed]",
      "text/plain": [
       "<Figure size 576x432 with 2 Axes>"
      ]
     },
     "metadata": {
      "needs_background": "light"
     },
     "output_type": "display_data"
    },
    {
     "name": "stdout",
     "output_type": "stream",
     "text": [
      "Model Accuracy: 0.9862548165560714\n"
     ]
    }
   ],
   "source": [
    "cm = confusion_matrix(y_test, y_pred)\n",
    "cmn = cm.astype('float') / cm.sum(axis=1)[:, np.newaxis]\n",
    "fig, ax = plt.subplots(figsize=(8, 6))\n",
    "sns.heatmap(cmn, annot=True, fmt='.2f')\n",
    "plt.ylabel('Actual')\n",
    "plt.xlabel('Predicted')\n",
    "plt.show(block=False)\n",
    "print(f'Model Accuracy: {f1_score(y_test, y_pred, average=\"weighted\")}')"
   ]
  },
  {
   "cell_type": "markdown",
   "metadata": {},
   "source": [
    "# Сводка о классификации"
   ]
  },
  {
   "cell_type": "code",
   "execution_count": 19,
   "metadata": {},
   "outputs": [],
   "source": [
    "from sklearn.metrics import classification_report"
   ]
  },
  {
   "cell_type": "code",
   "execution_count": 20,
   "metadata": {},
   "outputs": [
    {
     "name": "stdout",
     "output_type": "stream",
     "text": [
      "              precision    recall  f1-score   support\n",
      "\n",
      "        spam       0.98      1.00      0.99       961\n",
      "         ham       1.00      0.90      0.95       154\n",
      "\n",
      "    accuracy                           0.99      1115\n",
      "   macro avg       0.99      0.95      0.97      1115\n",
      "weighted avg       0.99      0.99      0.99      1115\n",
      "\n"
     ]
    }
   ],
   "source": [
    "print(classification_report(y_test, y_pred, target_names=['spam', 'ham']))"
   ]
  },
  {
   "cell_type": "markdown",
   "metadata": {},
   "source": [
    "С помощью _classification report_ из модуля _sklearn.metrics_ выводим отчёт о точности классификации с рассчитаным F1-Score."
   ]
  },
  {
   "cell_type": "markdown",
   "metadata": {},
   "source": [
    "# Вывод"
   ]
  },
  {
   "cell_type": "markdown",
   "metadata": {},
   "source": [
    "Наивысшее качество (94,67%) в нашей задачи классификация показывает CountVectorizer с использованием сочетания только униграмм в качестве признаков."
   ]
  },
  {
   "cell_type": "markdown",
   "metadata": {},
   "source": [
    "# Бонус"
   ]
  },
  {
   "cell_type": "markdown",
   "metadata": {},
   "source": [
    "Примеры сообщений для теста:\n",
    "\n",
    "\"FreeMsg: Txt: CALL to No: 86888 & claim your reward of 3 hours talk time to use from your phone now! Subscribe6GB\";\n",
    "\n",
    "\"FreeMsg: Txt: claim your reward of 3 hours talk time\";\n",
    "\n",
    "\"Have you visited the last lecture on physics?\";\n",
    "\n",
    "\"Have you visited the last lecture on physics? Just buy this book and you will have all materials! Only 99$\";\n",
    "\n",
    "\"Only 99$\"."
   ]
  }
 ],
 "metadata": {
  "kernelspec": {
   "display_name": "Python 3",
   "language": "python",
   "name": "python3"
  },
  "language_info": {
   "codemirror_mode": {
    "name": "ipython",
    "version": 3
   },
   "file_extension": ".py",
   "mimetype": "text/x-python",
   "name": "python",
   "nbconvert_exporter": "python",
   "pygments_lexer": "ipython3",
   "version": "3.7.7"
  }
 },
 "nbformat": 4,
 "nbformat_minor": 4
}
