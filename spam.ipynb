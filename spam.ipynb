{
 "cells": [
  {
   "cell_type": "markdown",
   "metadata": {},
   "source": [
    "# Классификация текстов: спам-фильтр для SMS"
   ]
  },
  {
   "cell_type": "markdown",
   "metadata": {},
   "source": [
    "В настоящем проекте мы взяли открытый датасет с SMS-сообщениями, размеченными на спам (\"spam\") и не спам (\"ham\"), построили на нем классификатор текстов на эти два класса, оценили его качество посредством F1-меры, и посмотрели, что будет происходить с качеством, если менять параметры модели.\n",
    "\n",
    "1. Загружаем датасет. Описание датасета можно посмотреть здесь: https://www.kaggle.com/uciml/sms-spam-collection-dataset.\n",
    "\n",
    "2. Считываем датасет в Python, выясняя, что используется в качестве разделителей и как проставляются метки классов. Смотрим, как выглядят типичные сообщения обоих классов."
   ]
  },
  {
   "cell_type": "code",
   "execution_count": 1,
   "metadata": {},
   "outputs": [
    {
     "name": "stdout",
     "output_type": "stream",
     "text": [
      "ham\tGo until jurong point, crazy.. Available only in bugis n great world la e buffet... Cine there got amore wat...\n",
      "\n",
      "spam\tFree entry in 2 a wkly comp to win FA Cup final tkts 21st May 2005. Text FA to 87121 to receive entry question(std txt rate)T&C's apply 08452810075over18's\n",
      "\n"
     ]
    }
   ],
   "source": [
    "import re\n",
    "\n",
    "file = open('SMSSpamCollection.txt', \"r\", encoding=\"utf-8\").read()\n",
    "\n",
    "print(re.search('ham\\t(.+)\\n', file).group(0))\n",
    "print(re.search('spam\\t(.+)\\n', file).group(0))"
   ]
  },
  {
   "cell_type": "markdown",
   "metadata": {},
   "source": [
    "3. Делим сообщения на 2 класса \"спам\" и \"не спам\", используя регулярные выражения. Создаем для дальнейшей работы список соответствующих меток классов. В качестве метки класса использовали 1 для спама и 0 для \"не спама\". Смотрим на (не)сбалансированность классов.\n",
    "4. Разделяем датасет на обучающую и тестовую выборки в пропорции 80/20."
   ]
  },
  {
   "cell_type": "code",
   "execution_count": 2,
   "metadata": {},
   "outputs": [
    {
     "name": "stdout",
     "output_type": "stream",
     "text": [
      "Размер выборки: 5573\n",
      "Количество не спама: 4826\n",
      "Количество спама: 747\n"
     ]
    }
   ],
   "source": [
    "from sklearn.model_selection import train_test_split\n",
    "\n",
    "ham = re.findall('ham\\t(.+)\\n', file)\n",
    "spam = re.findall('spam\\t(.+)\\n', file)\n",
    "\n",
    "print('Размер выборки:', len(ham+spam))\n",
    "print('Количество не спама:', len(ham))\n",
    "print('Количество спама:', len(spam))\n",
    "\n",
    "data = ham + spam\n",
    "labels = [0]*len(ham) + [1]*len(spam)\n",
    "\n",
    "X_train, X_test, y_train, y_test = train_test_split(data, labels, test_size=0.2)"
   ]
  },
  {
   "cell_type": "markdown",
   "metadata": {},
   "source": [
    "5. Используя CountVectorizer со стандартными настройками, получаем из текстов матрицу признаков X.\n",
    "6. Классифицируем тексты с помощью LogisticRegression с параметрами по умолчанию, делаем предсказания и оцениваем их качество с помощью F1-меры."
   ]
  },
  {
   "cell_type": "code",
   "execution_count": 3,
   "metadata": {},
   "outputs": [
    {
     "name": "stdout",
     "output_type": "stream",
     "text": [
      "0.9466666666666667\n"
     ]
    }
   ],
   "source": [
    "from sklearn.feature_extraction.text import CountVectorizer\n",
    "from sklearn.linear_model import LogisticRegression\n",
    "from sklearn.pipeline import Pipeline\n",
    "from sklearn.metrics import f1_score\n",
    "\n",
    "vectorizer = CountVectorizer()\n",
    "logreg = LogisticRegression(solver='lbfgs')\n",
    "\n",
    "clf_pipeline = Pipeline(\n",
    "            [(\"vectorizer\", vectorizer), (\"classifier\", logreg)])\n",
    "clf_pipeline.fit(X_train, y_train)\n",
    "\n",
    "y_pred = clf_pipeline.predict(X_test)\n",
    "print(f1_score(y_test, y_pred))"
   ]
  },
  {
   "cell_type": "markdown",
   "metadata": {},
   "source": [
    "7. Повторяем шаги из п.4 и п.5 для TfidfVectorizer. И замечаем, что качество ухудшается. Учитывая, что тексты не были предобаботаны (удаление знаков препинания и лемматизация слов), могла получиться довольна разреженная матрица признаков."
   ]
  },
  {
   "cell_type": "code",
   "execution_count": 4,
   "metadata": {},
   "outputs": [
    {
     "name": "stdout",
     "output_type": "stream",
     "text": [
      "0.8975265017667845\n"
     ]
    }
   ],
   "source": [
    "from sklearn.feature_extraction.text import TfidfVectorizer\n",
    "\n",
    "vectorizer = TfidfVectorizer()\n",
    "\n",
    "clf_pipeline = Pipeline(\n",
    "            [(\"vectorizer\", vectorizer), (\"classifier\", logreg)])\n",
    "clf_pipeline.fit(X_train, y_train)\n",
    "\n",
    "y_pred = clf_pipeline.predict(X_test)\n",
    "print(f1_score(y_test, y_pred))"
   ]
  },
  {
   "cell_type": "markdown",
   "metadata": {},
   "source": [
    "8. Задаем в CountVectorizer параметр ngram_range=(2,2), затем ngram_range=(3,3), затем ngram_range=(1,3). Во всех трех случаях измеряем получившееся значение F1-меры. В данном эксперименте мы пробуем добавлять в признаки n-граммы для разных диапазонов n - только биграммы, только триграммы, и, наконец, все вместе - униграммы, биграммы и триграммы. Обратим внимание, что статистики по биграммам и триграммам намного меньше, поэтому классификатор только на них работает хуже. В то же время это не ухудшает результат сколько-нибудь существенно, если добавлять их вместе с униграммами, т.к. за счет регуляризации линейный классификатор не склонен сильно переобучаться на этих признаках."
   ]
  },
  {
   "cell_type": "code",
   "execution_count": 5,
   "metadata": {},
   "outputs": [
    {
     "name": "stdout",
     "output_type": "stream",
     "text": [
      "(2, 2) 0.766798418972332\n",
      "(3, 3) 0.6723404255319149\n",
      "(1, 3) 0.9246575342465754\n"
     ]
    }
   ],
   "source": [
    "for var in [(2, 2), (3, 3), (1, 3)]:\n",
    "    vectorizer = CountVectorizer(ngram_range=var)\n",
    "    \n",
    "    clf_pipeline = Pipeline(\n",
    "            [(\"vectorizer\", vectorizer), (\"classifier\", logreg)])\n",
    "    clf_pipeline.fit(X_train, y_train)\n",
    "    \n",
    "    y_pred = clf_pipeline.predict(X_test)\n",
    "    print(var, f1_score(y_test, y_pred))"
   ]
  },
  {
   "cell_type": "markdown",
   "metadata": {},
   "source": [
    "9. Вывод: наивысшее качество (94,67%) в нашей задачи классификация показывает CountVectorizer с использованием сочетания только униграмм в качестве признаков."
   ]
  },
  {
   "cell_type": "markdown",
   "metadata": {},
   "source": [
    "10. *Бонус: примеры сообщений для теста:\n",
    "\n",
    "\"FreeMsg: Txt: CALL to No: 86888 & claim your reward of 3 hours talk time to use from your phone now! Subscribe6GB\";\n",
    "\n",
    "\"FreeMsg: Txt: claim your reward of 3 hours talk time\";\n",
    "\n",
    "\"Have you visited the last lecture on physics?\";\n",
    "\n",
    "\"Have you visited the last lecture on physics? Just buy this book and you will have all materials! Only 99$\";\n",
    "\n",
    "\"Only 99$\"."
   ]
  },
  {
   "cell_type": "code",
   "execution_count": 13,
   "metadata": {},
   "outputs": [
    {
     "name": "stdout",
     "output_type": "stream",
     "text": [
      "Ваше тестовое сообщение: Have you visited the last lecture on physics?\n",
      "ham\n"
     ]
    }
   ],
   "source": [
    "test = input('Ваше тестовое сообщение: ')\n",
    "\n",
    "vectorizer = TfidfVectorizer()\n",
    "\n",
    "clf_pipeline = Pipeline(\n",
    "            [(\"vectorizer\", vectorizer), (\"classifier\", logreg)])\n",
    "clf_pipeline.fit(X_train, y_train)\n",
    "\n",
    "pred = ['ham' if x==0 else 'spam' for x in clf_pipeline.predict([test])]\n",
    "\n",
    "print(*pred)"
   ]
  }
 ],
 "metadata": {
  "kernelspec": {
   "display_name": "Python 3",
   "language": "python",
   "name": "python3"
  },
  "language_info": {
   "codemirror_mode": {
    "name": "ipython",
    "version": 3
   },
   "file_extension": ".py",
   "mimetype": "text/x-python",
   "name": "python",
   "nbconvert_exporter": "python",
   "pygments_lexer": "ipython3",
   "version": "3.6.8"
  }
 },
 "nbformat": 4,
 "nbformat_minor": 2
}
